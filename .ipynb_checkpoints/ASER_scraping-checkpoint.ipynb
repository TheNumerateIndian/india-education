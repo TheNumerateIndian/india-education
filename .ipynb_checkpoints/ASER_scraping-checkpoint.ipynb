{
 "metadata": {
  "name": "",
  "signature": "sha256:480ba31e9c06c14a78206de91c0c69cc6a81552b2c84431f588e083e74a3ecf8"
 },
 "nbformat": 3,
 "nbformat_minor": 0,
 "worksheets": [
  {
   "cells": [
    {
     "cell_type": "heading",
     "level": 1,
     "metadata": {},
     "source": [
      "Scraping data from the ASER website"
     ]
    },
    {
     "cell_type": "markdown",
     "metadata": {},
     "source": [
      "Loading the required libraries"
     ]
    },
    {
     "cell_type": "code",
     "collapsed": false,
     "input": [
      "import requests\n",
      "import json\n",
      "from pattern import web\n",
      "import pandas as pd"
     ],
     "language": "python",
     "metadata": {},
     "outputs": [],
     "prompt_number": 1
    },
    {
     "cell_type": "markdown",
     "metadata": {},
     "source": [
      "Setting up functions"
     ]
    },
    {
     "cell_type": "code",
     "collapsed": false,
     "input": [
      "def f(i):\n",
      "    return i[2:]\n",
      "\n",
      "def get_state(i):\n",
      "    state_dict = {'IN-BR': 'Bihar', 'IN-PY': 'Pondicherry', 'IN-SK': 'Sikkim', 'IN-WB': 'West Bengal', 'IN-HR': 'Haryana',\n",
      "                  'IN-AS': 'Assam', 'IN-UT': 'Uttaranchal', 'IN-JH': 'Jharkhand', 'IN-JK': 'Jammu & Kashmir', 'IN-UP': 'Uttar Pradesh',\n",
      "                  'IN-NL': 'Nagaland', 'IN-CT': 'Chhattisgarh', 'IN': 'India', 'IN-GJ': 'Gujarat', 'IN-RJ': 'Rajasthan', \n",
      "                  'IN-MP': 'Madhya Pradesh', 'IN-OR': 'Orissa', 'IN-TN': 'Tamil Nadu', 'IN-MZ': 'Mizoram', 'IN-AP': 'Andhra Pradesh',\n",
      "                  'IN-TR': 'Tripura', 'IN-KA': 'Karnataka', 'IN-PB': 'Punjab', 'IN-ML': 'Meghalaya', 'IN-MN': 'Manipur', \n",
      "                  'IN-MH': 'Maharashtra', 'IN-KL': 'Kerela', 'IN-HP': 'Himachal Pradesh', 'IN-AR': 'Arunachal Pradesh',\n",
      "                  'IN-DD': 'Daman and Diu', 'IN-DN': 'Dadra and Nagar Haveli', 'IN-GA': 'Goa'}\n",
      "    return state_dict[i]"
     ],
     "language": "python",
     "metadata": {},
     "outputs": []
    },
    {
     "cell_type": "markdown",
     "metadata": {},
     "source": [
      "Scraping gender-related data for reading ability"
     ]
    },
    {
     "cell_type": "code",
     "collapsed": false,
     "input": [
      "df_gender_read = pd.DataFrame()\n",
      "for year in xrange(2006, 2014):\n",
      "    a = requests.get('http://www.asercentre.org/education/data/india/statistics/level/p/66.html?ajax=addons_aserdata_ajax_getdata&year=%s&indic=2&viewby=state'%(str(year)))\n",
      "    data = json.loads(a.text)\n",
      "    test = pd.DataFrame.from_dict(data['raw'])\n",
      "    new_columns = test.columns.values\n",
      "    new_columns[0] = 'gender'\n",
      "    new_columns[1] = 'reading_level'\n",
      "    new_columns[4] = 'state'\n",
      "    test.columns = new_columns\n",
      "    test = test.drop('stateId', 1)\n",
      "    test['reading_level'] = test['reading_level'].apply(f)\n",
      "    test['state'] = test['state'].apply(get_state)\n",
      "    df_gender_read = df_gender_read.append(test)\n",
      "    print year\n",
      "df_gender_read.head()"
     ],
     "language": "python",
     "metadata": {},
     "outputs": [
      {
       "output_type": "stream",
       "stream": "stdout",
       "text": [
        "2006\n",
        "2007"
       ]
      },
      {
       "output_type": "stream",
       "stream": "stdout",
       "text": [
        "\n",
        "2008"
       ]
      },
      {
       "output_type": "stream",
       "stream": "stdout",
       "text": [
        "\n",
        "2009"
       ]
      },
      {
       "output_type": "stream",
       "stream": "stdout",
       "text": [
        "\n",
        "2010"
       ]
      },
      {
       "output_type": "stream",
       "stream": "stdout",
       "text": [
        "\n",
        "2011"
       ]
      },
      {
       "output_type": "stream",
       "stream": "stdout",
       "text": [
        "\n",
        "2012"
       ]
      },
      {
       "output_type": "stream",
       "stream": "stdout",
       "text": [
        "\n",
        "2013"
       ]
      },
      {
       "output_type": "stream",
       "stream": "stdout",
       "text": [
        "\n"
       ]
      },
      {
       "html": [
        "<div style=\"max-height:1000px;max-width:1500px;overflow:auto;\">\n",
        "<table border=\"1\" class=\"dataframe\">\n",
        "  <thead>\n",
        "    <tr style=\"text-align: right;\">\n",
        "      <th></th>\n",
        "      <th>gender</th>\n",
        "      <th>reading_level</th>\n",
        "      <th>percent</th>\n",
        "      <th>state</th>\n",
        "      <th>year</th>\n",
        "    </tr>\n",
        "  </thead>\n",
        "  <tbody>\n",
        "    <tr>\n",
        "      <th>0</th>\n",
        "      <td> All</td>\n",
        "      <td> Nothing</td>\n",
        "      <td> 3.22</td>\n",
        "      <td>  Jammu &amp; Kashmir</td>\n",
        "      <td> 2006</td>\n",
        "    </tr>\n",
        "    <tr>\n",
        "      <th>1</th>\n",
        "      <td> All</td>\n",
        "      <td> Nothing</td>\n",
        "      <td> 3.57</td>\n",
        "      <td> Himachal Pradesh</td>\n",
        "      <td> 2006</td>\n",
        "    </tr>\n",
        "    <tr>\n",
        "      <th>2</th>\n",
        "      <td> All</td>\n",
        "      <td> Nothing</td>\n",
        "      <td> 4.82</td>\n",
        "      <td>           Punjab</td>\n",
        "      <td> 2006</td>\n",
        "    </tr>\n",
        "    <tr>\n",
        "      <th>3</th>\n",
        "      <td> All</td>\n",
        "      <td> Nothing</td>\n",
        "      <td> 3.49</td>\n",
        "      <td>      Uttaranchal</td>\n",
        "      <td> 2006</td>\n",
        "    </tr>\n",
        "    <tr>\n",
        "      <th>4</th>\n",
        "      <td> All</td>\n",
        "      <td> Nothing</td>\n",
        "      <td> 6.18</td>\n",
        "      <td>          Haryana</td>\n",
        "      <td> 2006</td>\n",
        "    </tr>\n",
        "  </tbody>\n",
        "</table>\n",
        "</div>"
       ],
       "metadata": {},
       "output_type": "pyout",
       "prompt_number": 69,
       "text": [
        "  gender reading_level percent             state  year\n",
        "0    All       Nothing    3.22   Jammu & Kashmir  2006\n",
        "1    All       Nothing    3.57  Himachal Pradesh  2006\n",
        "2    All       Nothing    4.82            Punjab  2006\n",
        "3    All       Nothing    3.49       Uttaranchal  2006\n",
        "4    All       Nothing    6.18           Haryana  2006"
       ]
      }
     ],
     "prompt_number": 69
    },
    {
     "cell_type": "markdown",
     "metadata": {},
     "source": [
      "Scraping age-related data for reading ability"
     ]
    },
    {
     "cell_type": "code",
     "collapsed": false,
     "input": [
      "df_age_read = pd.DataFrame()\n",
      "for year in xrange(2006, 2014):\n",
      "    a = requests.get('http://www.asercentre.org/education/data/india/statistics/level/p/66.html?ajax=addons_aserdata_ajax_getdata&year=%s&indic=2&viewby=age'%(str(year)))\n",
      "    data = json.loads(a.text)\n",
      "    test = pd.DataFrame.from_dict(data['raw'])\n",
      "    new_columns = test.columns.values\n",
      "    new_columns[0] = 'age_group'\n",
      "    new_columns[1] = 'reading_level'\n",
      "    new_columns[4] = 'state'\n",
      "    test.columns = new_columns\n",
      "    test = test.drop('stateId', 1)\n",
      "    test['reading_level'] = test['reading_level'].apply(f)\n",
      "    test['state'] = test['state'].apply(get_state)\n",
      "    df_age_read = df_age_read.append(test)\n",
      "    print year\n",
      "df_age_read.head()"
     ],
     "language": "python",
     "metadata": {},
     "outputs": [
      {
       "output_type": "stream",
       "stream": "stdout",
       "text": [
        "2006\n",
        "2007"
       ]
      },
      {
       "output_type": "stream",
       "stream": "stdout",
       "text": [
        "\n",
        "2008"
       ]
      },
      {
       "output_type": "stream",
       "stream": "stdout",
       "text": [
        "\n",
        "2009"
       ]
      },
      {
       "output_type": "stream",
       "stream": "stdout",
       "text": [
        "\n",
        "2010"
       ]
      },
      {
       "output_type": "stream",
       "stream": "stdout",
       "text": [
        "\n",
        "2011"
       ]
      },
      {
       "output_type": "stream",
       "stream": "stdout",
       "text": [
        "\n",
        "2012"
       ]
      },
      {
       "output_type": "stream",
       "stream": "stdout",
       "text": [
        "\n",
        "2013"
       ]
      },
      {
       "output_type": "stream",
       "stream": "stdout",
       "text": [
        "\n"
       ]
      },
      {
       "html": [
        "<div style=\"max-height:1000px;max-width:1500px;overflow:auto;\">\n",
        "<table border=\"1\" class=\"dataframe\">\n",
        "  <thead>\n",
        "    <tr style=\"text-align: right;\">\n",
        "      <th></th>\n",
        "      <th>age_group</th>\n",
        "      <th>reading_level</th>\n",
        "      <th>percent</th>\n",
        "      <th>state</th>\n",
        "      <th>year</th>\n",
        "    </tr>\n",
        "  </thead>\n",
        "  <tbody>\n",
        "    <tr>\n",
        "      <th>0</th>\n",
        "      <td> 05 to 07</td>\n",
        "      <td> Nothing</td>\n",
        "      <td> 27.43</td>\n",
        "      <td>       India</td>\n",
        "      <td> 2006</td>\n",
        "    </tr>\n",
        "    <tr>\n",
        "      <th>1</th>\n",
        "      <td> 05 to 07</td>\n",
        "      <td> Nothing</td>\n",
        "      <td> 28.45</td>\n",
        "      <td> Pondicherry</td>\n",
        "      <td> 2006</td>\n",
        "    </tr>\n",
        "    <tr>\n",
        "      <th>2</th>\n",
        "      <td> 05 to 07</td>\n",
        "      <td> Nothing</td>\n",
        "      <td> 34.68</td>\n",
        "      <td>  Tamil Nadu</td>\n",
        "      <td> 2006</td>\n",
        "    </tr>\n",
        "    <tr>\n",
        "      <th>3</th>\n",
        "      <td> 05 to 07</td>\n",
        "      <td> Nothing</td>\n",
        "      <td>  1.34</td>\n",
        "      <td>      Kerela</td>\n",
        "      <td> 2006</td>\n",
        "    </tr>\n",
        "    <tr>\n",
        "      <th>4</th>\n",
        "      <td> 05 to 07</td>\n",
        "      <td> Nothing</td>\n",
        "      <td>  6.18</td>\n",
        "      <td>         Goa</td>\n",
        "      <td> 2006</td>\n",
        "    </tr>\n",
        "  </tbody>\n",
        "</table>\n",
        "</div>"
       ],
       "metadata": {},
       "output_type": "pyout",
       "prompt_number": 70,
       "text": [
        "  age_group reading_level percent        state  year\n",
        "0  05 to 07       Nothing   27.43        India  2006\n",
        "1  05 to 07       Nothing   28.45  Pondicherry  2006\n",
        "2  05 to 07       Nothing   34.68   Tamil Nadu  2006\n",
        "3  05 to 07       Nothing    1.34       Kerela  2006\n",
        "4  05 to 07       Nothing    6.18          Goa  2006"
       ]
      }
     ],
     "prompt_number": 70
    },
    {
     "cell_type": "markdown",
     "metadata": {},
     "source": [
      "Scraping class-level data for reading ability"
     ]
    },
    {
     "cell_type": "code",
     "collapsed": false,
     "input": [
      "df_class_read = pd.DataFrame()\n",
      "for year in xrange(2006, 2014):\n",
      "    a = requests.get('http://www.asercentre.org/education/data/india/statistics/level/p/66.html?ajax=addons_aserdata_ajax_getdata&year=%s&indic=2&viewby=schoolClass'%(str(year)))\n",
      "    data = json.loads(a.text)\n",
      "    test = pd.DataFrame.from_dict(data['raw'])\n",
      "    new_columns = test.columns.values\n",
      "    new_columns[0] = 'class'\n",
      "    new_columns[1] = 'reading_level'\n",
      "    new_columns[4] = 'state'\n",
      "    test.columns = new_columns\n",
      "    test = test.drop('stateId', 1)\n",
      "    test['reading_level'] = test['reading_level'].apply(f)\n",
      "    test['state'] = test['state'].apply(get_state)\n",
      "    df_class_read = df_class_read.append(test)\n",
      "    print year\n",
      "df_class_read.head()"
     ],
     "language": "python",
     "metadata": {},
     "outputs": [
      {
       "output_type": "stream",
       "stream": "stdout",
       "text": [
        "2006\n",
        "2007"
       ]
      },
      {
       "output_type": "stream",
       "stream": "stdout",
       "text": [
        "\n",
        "2008"
       ]
      },
      {
       "output_type": "stream",
       "stream": "stdout",
       "text": [
        "\n",
        "2009"
       ]
      },
      {
       "output_type": "stream",
       "stream": "stdout",
       "text": [
        "\n",
        "2010"
       ]
      },
      {
       "output_type": "stream",
       "stream": "stdout",
       "text": [
        "\n",
        "2011"
       ]
      },
      {
       "output_type": "stream",
       "stream": "stdout",
       "text": [
        "\n",
        "2012"
       ]
      },
      {
       "output_type": "stream",
       "stream": "stdout",
       "text": [
        "\n",
        "2013"
       ]
      },
      {
       "output_type": "stream",
       "stream": "stdout",
       "text": [
        "\n"
       ]
      },
      {
       "html": [
        "<div style=\"max-height:1000px;max-width:1500px;overflow:auto;\">\n",
        "<table border=\"1\" class=\"dataframe\">\n",
        "  <thead>\n",
        "    <tr style=\"text-align: right;\">\n",
        "      <th></th>\n",
        "      <th>class</th>\n",
        "      <th>reading_level</th>\n",
        "      <th>percent</th>\n",
        "      <th>state</th>\n",
        "      <th>year</th>\n",
        "    </tr>\n",
        "  </thead>\n",
        "  <tbody>\n",
        "    <tr>\n",
        "      <th>0</th>\n",
        "      <td> 1</td>\n",
        "      <td> Nothing</td>\n",
        "      <td> 38.34</td>\n",
        "      <td>       India</td>\n",
        "      <td> 2006</td>\n",
        "    </tr>\n",
        "    <tr>\n",
        "      <th>1</th>\n",
        "      <td> 1</td>\n",
        "      <td> Nothing</td>\n",
        "      <td> 39.74</td>\n",
        "      <td> Pondicherry</td>\n",
        "      <td> 2006</td>\n",
        "    </tr>\n",
        "    <tr>\n",
        "      <th>2</th>\n",
        "      <td> 1</td>\n",
        "      <td> Nothing</td>\n",
        "      <td> 51.13</td>\n",
        "      <td>  Tamil Nadu</td>\n",
        "      <td> 2006</td>\n",
        "    </tr>\n",
        "    <tr>\n",
        "      <th>3</th>\n",
        "      <td> 1</td>\n",
        "      <td> Nothing</td>\n",
        "      <td>  2.15</td>\n",
        "      <td>      Kerela</td>\n",
        "      <td> 2006</td>\n",
        "    </tr>\n",
        "    <tr>\n",
        "      <th>4</th>\n",
        "      <td> 1</td>\n",
        "      <td> Nothing</td>\n",
        "      <td>  3.45</td>\n",
        "      <td>         Goa</td>\n",
        "      <td> 2006</td>\n",
        "    </tr>\n",
        "  </tbody>\n",
        "</table>\n",
        "</div>"
       ],
       "metadata": {},
       "output_type": "pyout",
       "prompt_number": 71,
       "text": [
        "  class reading_level percent        state  year\n",
        "0     1       Nothing   38.34        India  2006\n",
        "1     1       Nothing   39.74  Pondicherry  2006\n",
        "2     1       Nothing   51.13   Tamil Nadu  2006\n",
        "3     1       Nothing    2.15       Kerela  2006\n",
        "4     1       Nothing    3.45          Goa  2006"
       ]
      }
     ],
     "prompt_number": 71
    },
    {
     "cell_type": "markdown",
     "metadata": {},
     "source": [
      "Scraping data by school type for reading ability"
     ]
    },
    {
     "cell_type": "code",
     "collapsed": false,
     "input": [
      "df_school_read = pd.DataFrame()\n",
      "for year in xrange(2006, 2014):\n",
      "    a = requests.get('http://www.asercentre.org/education/data/india/statistics/level/p/66.html?ajax=addons_aserdata_ajax_getdata&year=%s&indic=2&viewby=schoolType'%(str(year)))\n",
      "    data = json.loads(a.text)\n",
      "    test = pd.DataFrame.from_dict(data['raw'])\n",
      "    new_columns = test.columns.values\n",
      "    new_columns[0] = 'school_type'\n",
      "    new_columns[1] = 'reading_level'\n",
      "    new_columns[4] = 'state'\n",
      "    test.columns = new_columns\n",
      "    test = test.drop('stateId', 1)\n",
      "    test['reading_level'] = test['reading_level'].apply(f)\n",
      "    test['state'] = test['state'].apply(get_state)\n",
      "    df_school_read = df_school_read.append(test)\n",
      "    print year\n",
      "df_school_read.head()"
     ],
     "language": "python",
     "metadata": {},
     "outputs": [
      {
       "output_type": "stream",
       "stream": "stdout",
       "text": [
        "2006\n",
        "2007"
       ]
      },
      {
       "output_type": "stream",
       "stream": "stdout",
       "text": [
        "\n",
        "2008"
       ]
      },
      {
       "output_type": "stream",
       "stream": "stdout",
       "text": [
        "\n",
        "2009"
       ]
      },
      {
       "output_type": "stream",
       "stream": "stdout",
       "text": [
        "\n",
        "2010"
       ]
      },
      {
       "output_type": "stream",
       "stream": "stdout",
       "text": [
        "\n",
        "2011"
       ]
      },
      {
       "output_type": "stream",
       "stream": "stdout",
       "text": [
        "\n",
        "2012"
       ]
      },
      {
       "output_type": "stream",
       "stream": "stdout",
       "text": [
        "\n",
        "2013"
       ]
      },
      {
       "output_type": "stream",
       "stream": "stdout",
       "text": [
        "\n"
       ]
      },
      {
       "html": [
        "<div style=\"max-height:1000px;max-width:1500px;overflow:auto;\">\n",
        "<table border=\"1\" class=\"dataframe\">\n",
        "  <thead>\n",
        "    <tr style=\"text-align: right;\">\n",
        "      <th></th>\n",
        "      <th>school_type</th>\n",
        "      <th>reading_level</th>\n",
        "      <th>percent</th>\n",
        "      <th>state</th>\n",
        "      <th>year</th>\n",
        "    </tr>\n",
        "  </thead>\n",
        "  <tbody>\n",
        "    <tr>\n",
        "      <th>0</th>\n",
        "      <td> All</td>\n",
        "      <td> Nothing</td>\n",
        "      <td> 8.82</td>\n",
        "      <td>       India</td>\n",
        "      <td> 2006</td>\n",
        "    </tr>\n",
        "    <tr>\n",
        "      <th>1</th>\n",
        "      <td> All</td>\n",
        "      <td> Nothing</td>\n",
        "      <td> 7.42</td>\n",
        "      <td> Pondicherry</td>\n",
        "      <td> 2006</td>\n",
        "    </tr>\n",
        "    <tr>\n",
        "      <th>2</th>\n",
        "      <td> All</td>\n",
        "      <td> Nothing</td>\n",
        "      <td> 9.77</td>\n",
        "      <td>  Tamil Nadu</td>\n",
        "      <td> 2006</td>\n",
        "    </tr>\n",
        "    <tr>\n",
        "      <th>3</th>\n",
        "      <td> All</td>\n",
        "      <td> Nothing</td>\n",
        "      <td> 0.42</td>\n",
        "      <td>      Kerela</td>\n",
        "      <td> 2006</td>\n",
        "    </tr>\n",
        "    <tr>\n",
        "      <th>4</th>\n",
        "      <td> All</td>\n",
        "      <td> Nothing</td>\n",
        "      <td> 1.01</td>\n",
        "      <td>         Goa</td>\n",
        "      <td> 2006</td>\n",
        "    </tr>\n",
        "  </tbody>\n",
        "</table>\n",
        "</div>"
       ],
       "metadata": {},
       "output_type": "pyout",
       "prompt_number": 72,
       "text": [
        "  school_type reading_level percent        state  year\n",
        "0         All       Nothing    8.82        India  2006\n",
        "1         All       Nothing    7.42  Pondicherry  2006\n",
        "2         All       Nothing    9.77   Tamil Nadu  2006\n",
        "3         All       Nothing    0.42       Kerela  2006\n",
        "4         All       Nothing    1.01          Goa  2006"
       ]
      }
     ],
     "prompt_number": 72
    },
    {
     "cell_type": "code",
     "collapsed": false,
     "input": [
      "df_gender_math = pd.DataFrame()\n",
      "for year in xrange(2007, 2014):\n",
      "    a = requests.get('http://www.asercentre.org/education/data/india/statistics/level/p/66.html?ajax=addons_aserdata_ajax_getdata&year=%s&indic=3&viewby=state'%(str(year)))\n",
      "    data = json.loads(a.text)\n",
      "    test = pd.DataFrame.from_dict(data['raw'])\n",
      "    new_columns = test.columns.values\n",
      "    new_columns[0] = 'gender'\n",
      "    new_columns[1] = 'math_level'\n",
      "    new_columns[4] = 'state'\n",
      "    test.columns = new_columns\n",
      "    test = test.drop('stateId', 1)\n",
      "    test['math_level'] = test['math_level'].apply(f)\n",
      "    test['state'] = test['state'].apply(get_state)\n",
      "    df_gender_math = df_gender_math.append(test)\n",
      "    print year\n",
      "df_gender_math.head()"
     ],
     "language": "python",
     "metadata": {},
     "outputs": [
      {
       "output_type": "stream",
       "stream": "stdout",
       "text": [
        "2007\n",
        "2008"
       ]
      },
      {
       "output_type": "stream",
       "stream": "stdout",
       "text": [
        "\n",
        "2009"
       ]
      },
      {
       "output_type": "stream",
       "stream": "stdout",
       "text": [
        "\n",
        "2010"
       ]
      },
      {
       "output_type": "stream",
       "stream": "stdout",
       "text": [
        "\n",
        "2011"
       ]
      },
      {
       "output_type": "stream",
       "stream": "stdout",
       "text": [
        "\n",
        "2012"
       ]
      },
      {
       "output_type": "stream",
       "stream": "stdout",
       "text": [
        "\n",
        "2013"
       ]
      },
      {
       "output_type": "stream",
       "stream": "stdout",
       "text": [
        "\n"
       ]
      },
      {
       "html": [
        "<div style=\"max-height:1000px;max-width:1500px;overflow:auto;\">\n",
        "<table border=\"1\" class=\"dataframe\">\n",
        "  <thead>\n",
        "    <tr style=\"text-align: right;\">\n",
        "      <th></th>\n",
        "      <th>gender</th>\n",
        "      <th>math_level</th>\n",
        "      <th>percent</th>\n",
        "      <th>state</th>\n",
        "      <th>year</th>\n",
        "    </tr>\n",
        "  </thead>\n",
        "  <tbody>\n",
        "    <tr>\n",
        "      <th>0</th>\n",
        "      <td> All</td>\n",
        "      <td> Nothing</td>\n",
        "      <td> 2.92</td>\n",
        "      <td>  Jammu &amp; Kashmir</td>\n",
        "      <td> 2007</td>\n",
        "    </tr>\n",
        "    <tr>\n",
        "      <th>1</th>\n",
        "      <td> All</td>\n",
        "      <td> Nothing</td>\n",
        "      <td> 1.90</td>\n",
        "      <td> Himachal Pradesh</td>\n",
        "      <td> 2007</td>\n",
        "    </tr>\n",
        "    <tr>\n",
        "      <th>2</th>\n",
        "      <td> All</td>\n",
        "      <td> Nothing</td>\n",
        "      <td> 4.61</td>\n",
        "      <td>           Punjab</td>\n",
        "      <td> 2007</td>\n",
        "    </tr>\n",
        "    <tr>\n",
        "      <th>3</th>\n",
        "      <td> All</td>\n",
        "      <td> Nothing</td>\n",
        "      <td> 6.55</td>\n",
        "      <td>      Uttaranchal</td>\n",
        "      <td> 2007</td>\n",
        "    </tr>\n",
        "    <tr>\n",
        "      <th>4</th>\n",
        "      <td> All</td>\n",
        "      <td> Nothing</td>\n",
        "      <td> 6.85</td>\n",
        "      <td>          Haryana</td>\n",
        "      <td> 2007</td>\n",
        "    </tr>\n",
        "  </tbody>\n",
        "</table>\n",
        "</div>"
       ],
       "metadata": {},
       "output_type": "pyout",
       "prompt_number": 73,
       "text": [
        "  gender math_level percent             state  year\n",
        "0    All    Nothing    2.92   Jammu & Kashmir  2007\n",
        "1    All    Nothing    1.90  Himachal Pradesh  2007\n",
        "2    All    Nothing    4.61            Punjab  2007\n",
        "3    All    Nothing    6.55       Uttaranchal  2007\n",
        "4    All    Nothing    6.85           Haryana  2007"
       ]
      }
     ],
     "prompt_number": 73
    },
    {
     "cell_type": "markdown",
     "metadata": {},
     "source": [
      "Scraping age-level data for math ability"
     ]
    },
    {
     "cell_type": "code",
     "collapsed": false,
     "input": [
      "df_age_math = pd.DataFrame()\n",
      "for year in xrange(2007, 2014):\n",
      "    a = requests.get('http://www.asercentre.org/education/data/india/statistics/level/p/66.html?ajax=addons_aserdata_ajax_getdata&year=%s&indic=3&viewby=age'%(str(year)))\n",
      "    data = json.loads(a.text)\n",
      "    test = pd.DataFrame.from_dict(data['raw'])\n",
      "    new_columns = test.columns.values\n",
      "    new_columns[0] = 'age_group'\n",
      "    new_columns[1] = 'math_level'\n",
      "    new_columns[4] = 'state'\n",
      "    test.columns = new_columns\n",
      "    test = test.drop('stateId', 1)\n",
      "    test['math_level'] = test['math_level'].apply(f)\n",
      "    test['state'] = test['state'].apply(get_state)\n",
      "    df_age_math = df_age_math.append(test)\n",
      "    print year\n",
      "df_age_math.head()"
     ],
     "language": "python",
     "metadata": {},
     "outputs": [
      {
       "output_type": "stream",
       "stream": "stdout",
       "text": [
        "2007\n",
        "2008"
       ]
      },
      {
       "output_type": "stream",
       "stream": "stdout",
       "text": [
        "\n",
        "2009"
       ]
      },
      {
       "output_type": "stream",
       "stream": "stdout",
       "text": [
        "\n",
        "2010"
       ]
      },
      {
       "output_type": "stream",
       "stream": "stdout",
       "text": [
        "\n",
        "2011"
       ]
      },
      {
       "output_type": "stream",
       "stream": "stdout",
       "text": [
        "\n",
        "2012"
       ]
      },
      {
       "output_type": "stream",
       "stream": "stdout",
       "text": [
        "\n",
        "2013"
       ]
      },
      {
       "output_type": "stream",
       "stream": "stdout",
       "text": [
        "\n"
       ]
      },
      {
       "html": [
        "<div style=\"max-height:1000px;max-width:1500px;overflow:auto;\">\n",
        "<table border=\"1\" class=\"dataframe\">\n",
        "  <thead>\n",
        "    <tr style=\"text-align: right;\">\n",
        "      <th></th>\n",
        "      <th>age_group</th>\n",
        "      <th>math_level</th>\n",
        "      <th>percent</th>\n",
        "      <th>state</th>\n",
        "      <th>year</th>\n",
        "    </tr>\n",
        "  </thead>\n",
        "  <tbody>\n",
        "    <tr>\n",
        "      <th>0</th>\n",
        "      <td> 05 to 07</td>\n",
        "      <td> Nothing</td>\n",
        "      <td>  9.18</td>\n",
        "      <td>  Jammu &amp; Kashmir</td>\n",
        "      <td> 2007</td>\n",
        "    </tr>\n",
        "    <tr>\n",
        "      <th>1</th>\n",
        "      <td> 05 to 07</td>\n",
        "      <td> Nothing</td>\n",
        "      <td>  6.37</td>\n",
        "      <td> Himachal Pradesh</td>\n",
        "      <td> 2007</td>\n",
        "    </tr>\n",
        "    <tr>\n",
        "      <th>2</th>\n",
        "      <td> 05 to 07</td>\n",
        "      <td> Nothing</td>\n",
        "      <td> 15.14</td>\n",
        "      <td>           Punjab</td>\n",
        "      <td> 2007</td>\n",
        "    </tr>\n",
        "    <tr>\n",
        "      <th>3</th>\n",
        "      <td> 05 to 07</td>\n",
        "      <td> Nothing</td>\n",
        "      <td> 20.43</td>\n",
        "      <td>      Uttaranchal</td>\n",
        "      <td> 2007</td>\n",
        "    </tr>\n",
        "    <tr>\n",
        "      <th>4</th>\n",
        "      <td> 05 to 07</td>\n",
        "      <td> Nothing</td>\n",
        "      <td> 20.65</td>\n",
        "      <td>          Haryana</td>\n",
        "      <td> 2007</td>\n",
        "    </tr>\n",
        "  </tbody>\n",
        "</table>\n",
        "</div>"
       ],
       "metadata": {},
       "output_type": "pyout",
       "prompt_number": 74,
       "text": [
        "  age_group math_level percent             state  year\n",
        "0  05 to 07    Nothing    9.18   Jammu & Kashmir  2007\n",
        "1  05 to 07    Nothing    6.37  Himachal Pradesh  2007\n",
        "2  05 to 07    Nothing   15.14            Punjab  2007\n",
        "3  05 to 07    Nothing   20.43       Uttaranchal  2007\n",
        "4  05 to 07    Nothing   20.65           Haryana  2007"
       ]
      }
     ],
     "prompt_number": 74
    },
    {
     "cell_type": "markdown",
     "metadata": {},
     "source": [
      "Scraping class-level data for reading ability"
     ]
    },
    {
     "cell_type": "code",
     "collapsed": false,
     "input": [
      "df_class_math = pd.DataFrame()\n",
      "for year in xrange(2007, 2014):\n",
      "    a = requests.get('http://www.asercentre.org/education/data/india/statistics/level/p/66.html?ajax=addons_aserdata_ajax_getdata&year=%s&indic=3&viewby=schoolClass'%(str(year)))\n",
      "    data = json.loads(a.text)\n",
      "    test = pd.DataFrame.from_dict(data['raw'])\n",
      "    new_columns = test.columns.values\n",
      "    new_columns[0] = 'class'\n",
      "    new_columns[1] = 'math_level'\n",
      "    new_columns[4] = 'state'\n",
      "    test.columns = new_columns\n",
      "    test = test.drop('stateId', 1)\n",
      "    test['math_level'] = test['math_level'].apply(f)\n",
      "    test['state'] = test['state'].apply(get_state)\n",
      "    df_class_math = df_class_math.append(test)\n",
      "    print year\n",
      "df_class_math.head()"
     ],
     "language": "python",
     "metadata": {},
     "outputs": [
      {
       "output_type": "stream",
       "stream": "stdout",
       "text": [
        "2007\n",
        "2008"
       ]
      },
      {
       "output_type": "stream",
       "stream": "stdout",
       "text": [
        "\n",
        "2009"
       ]
      },
      {
       "output_type": "stream",
       "stream": "stdout",
       "text": [
        "\n",
        "2010"
       ]
      },
      {
       "output_type": "stream",
       "stream": "stdout",
       "text": [
        "\n",
        "2011"
       ]
      },
      {
       "output_type": "stream",
       "stream": "stdout",
       "text": [
        "\n",
        "2012"
       ]
      },
      {
       "output_type": "stream",
       "stream": "stdout",
       "text": [
        "\n",
        "2013"
       ]
      },
      {
       "output_type": "stream",
       "stream": "stdout",
       "text": [
        "\n"
       ]
      },
      {
       "html": [
        "<div style=\"max-height:1000px;max-width:1500px;overflow:auto;\">\n",
        "<table border=\"1\" class=\"dataframe\">\n",
        "  <thead>\n",
        "    <tr style=\"text-align: right;\">\n",
        "      <th></th>\n",
        "      <th>class</th>\n",
        "      <th>math_level</th>\n",
        "      <th>percent</th>\n",
        "      <th>state</th>\n",
        "      <th>year</th>\n",
        "    </tr>\n",
        "  </thead>\n",
        "  <tbody>\n",
        "    <tr>\n",
        "      <th>0</th>\n",
        "      <td> 1</td>\n",
        "      <td> Nothing</td>\n",
        "      <td>  9.35</td>\n",
        "      <td>  Jammu &amp; Kashmir</td>\n",
        "      <td> 2007</td>\n",
        "    </tr>\n",
        "    <tr>\n",
        "      <th>1</th>\n",
        "      <td> 1</td>\n",
        "      <td> Nothing</td>\n",
        "      <td> 10.58</td>\n",
        "      <td> Himachal Pradesh</td>\n",
        "      <td> 2007</td>\n",
        "    </tr>\n",
        "    <tr>\n",
        "      <th>2</th>\n",
        "      <td> 1</td>\n",
        "      <td> Nothing</td>\n",
        "      <td> 22.28</td>\n",
        "      <td>           Punjab</td>\n",
        "      <td> 2007</td>\n",
        "    </tr>\n",
        "    <tr>\n",
        "      <th>3</th>\n",
        "      <td> 1</td>\n",
        "      <td> Nothing</td>\n",
        "      <td> 29.43</td>\n",
        "      <td>      Uttaranchal</td>\n",
        "      <td> 2007</td>\n",
        "    </tr>\n",
        "    <tr>\n",
        "      <th>4</th>\n",
        "      <td> 1</td>\n",
        "      <td> Nothing</td>\n",
        "      <td> 30.34</td>\n",
        "      <td>          Haryana</td>\n",
        "      <td> 2007</td>\n",
        "    </tr>\n",
        "  </tbody>\n",
        "</table>\n",
        "</div>"
       ],
       "metadata": {},
       "output_type": "pyout",
       "prompt_number": 75,
       "text": [
        "  class math_level percent             state  year\n",
        "0     1    Nothing    9.35   Jammu & Kashmir  2007\n",
        "1     1    Nothing   10.58  Himachal Pradesh  2007\n",
        "2     1    Nothing   22.28            Punjab  2007\n",
        "3     1    Nothing   29.43       Uttaranchal  2007\n",
        "4     1    Nothing   30.34           Haryana  2007"
       ]
      }
     ],
     "prompt_number": 75
    },
    {
     "cell_type": "markdown",
     "metadata": {},
     "source": [
      "Scraping data by school type for math ability"
     ]
    },
    {
     "cell_type": "code",
     "collapsed": false,
     "input": [
      "df_school_math = pd.DataFrame()\n",
      "for year in xrange(2007, 2014):\n",
      "    a = requests.get('http://www.asercentre.org/education/data/india/statistics/level/p/66.html?ajax=addons_aserdata_ajax_getdata&year=%s&indic=3&viewby=schoolType'%(str(year)))\n",
      "    data = json.loads(a.text)\n",
      "    test = pd.DataFrame.from_dict(data['raw'])\n",
      "    new_columns = test.columns.values\n",
      "    new_columns[0] = 'school_type'\n",
      "    new_columns[1] = 'math_level'\n",
      "    new_columns[4] = 'state'\n",
      "    test.columns = new_columns\n",
      "    test = test.drop('stateId', 1)\n",
      "    test['math_level'] = test['math_level'].apply(f)\n",
      "    test['state'] = test['state'].apply(get_state)\n",
      "    df_school_math = df_school_math.append(test)\n",
      "    print year\n",
      "df_school_math.head()"
     ],
     "language": "python",
     "metadata": {},
     "outputs": [
      {
       "output_type": "stream",
       "stream": "stdout",
       "text": [
        "2007\n",
        "2008"
       ]
      },
      {
       "output_type": "stream",
       "stream": "stdout",
       "text": [
        "\n",
        "2009"
       ]
      },
      {
       "output_type": "stream",
       "stream": "stdout",
       "text": [
        "\n",
        "2010"
       ]
      },
      {
       "output_type": "stream",
       "stream": "stdout",
       "text": [
        "\n",
        "2011"
       ]
      },
      {
       "output_type": "stream",
       "stream": "stdout",
       "text": [
        "\n",
        "2012"
       ]
      },
      {
       "output_type": "stream",
       "stream": "stdout",
       "text": [
        "\n",
        "2013"
       ]
      },
      {
       "output_type": "stream",
       "stream": "stdout",
       "text": [
        "\n"
       ]
      },
      {
       "html": [
        "<div style=\"max-height:1000px;max-width:1500px;overflow:auto;\">\n",
        "<table border=\"1\" class=\"dataframe\">\n",
        "  <thead>\n",
        "    <tr style=\"text-align: right;\">\n",
        "      <th></th>\n",
        "      <th>school_type</th>\n",
        "      <th>math_level</th>\n",
        "      <th>percent</th>\n",
        "      <th>state</th>\n",
        "      <th>year</th>\n",
        "    </tr>\n",
        "  </thead>\n",
        "  <tbody>\n",
        "    <tr>\n",
        "      <th>0</th>\n",
        "      <td> All</td>\n",
        "      <td> Nothing</td>\n",
        "      <td> 7.62</td>\n",
        "      <td>       India</td>\n",
        "      <td> 2007</td>\n",
        "    </tr>\n",
        "    <tr>\n",
        "      <th>1</th>\n",
        "      <td> All</td>\n",
        "      <td> Nothing</td>\n",
        "      <td> 6.70</td>\n",
        "      <td> Pondicherry</td>\n",
        "      <td> 2007</td>\n",
        "    </tr>\n",
        "    <tr>\n",
        "      <th>2</th>\n",
        "      <td> All</td>\n",
        "      <td> Nothing</td>\n",
        "      <td> 8.57</td>\n",
        "      <td>  Tamil Nadu</td>\n",
        "      <td> 2007</td>\n",
        "    </tr>\n",
        "    <tr>\n",
        "      <th>3</th>\n",
        "      <td> All</td>\n",
        "      <td> Nothing</td>\n",
        "      <td> 1.63</td>\n",
        "      <td>      Kerela</td>\n",
        "      <td> 2007</td>\n",
        "    </tr>\n",
        "    <tr>\n",
        "      <th>4</th>\n",
        "      <td> All</td>\n",
        "      <td> Nothing</td>\n",
        "      <td> 1.47</td>\n",
        "      <td>         Goa</td>\n",
        "      <td> 2007</td>\n",
        "    </tr>\n",
        "  </tbody>\n",
        "</table>\n",
        "</div>"
       ],
       "metadata": {},
       "output_type": "pyout",
       "prompt_number": 76,
       "text": [
        "  school_type math_level percent        state  year\n",
        "0         All    Nothing    7.62        India  2007\n",
        "1         All    Nothing    6.70  Pondicherry  2007\n",
        "2         All    Nothing    8.57   Tamil Nadu  2007\n",
        "3         All    Nothing    1.63       Kerela  2007\n",
        "4         All    Nothing    1.47          Goa  2007"
       ]
      }
     ],
     "prompt_number": 76
    },
    {
     "cell_type": "markdown",
     "metadata": {},
     "source": [
      "Scraping data by gender for math ability"
     ]
    },
    {
     "cell_type": "code",
     "collapsed": false,
     "input": [
      "df_gender_enrol = pd.DataFrame()\n",
      "for year in xrange(2006, 2014):\n",
      "    a = requests.get('http://www.asercentre.org/education/data/india/statistics/level/p/66.html?ajax=addons_aserdata_ajax_getdata&year=%s&indic=4&viewby=state'%(str(year)))\n",
      "    data = json.loads(a.text)\n",
      "    test = pd.DataFrame.from_dict(data['raw'])\n",
      "    new_columns = test.columns.values\n",
      "    new_columns[0] = 'gender'\n",
      "    new_columns[1] = 'enrol_level'\n",
      "    new_columns[4] = 'state'\n",
      "    test.columns = new_columns\n",
      "    test = test.drop('stateId', 1)\n",
      "    test['enrol_level'] = test['enrol_level'].apply(f)\n",
      "    test['state'] = test['state'].apply(get_state)\n",
      "    df_gender_enrol = df_gender_enrol.append(test)\n",
      "    print year\n",
      "df_gender_enrol.head()"
     ],
     "language": "python",
     "metadata": {},
     "outputs": [
      {
       "output_type": "stream",
       "stream": "stdout",
       "text": [
        "2006\n",
        "2007"
       ]
      },
      {
       "output_type": "stream",
       "stream": "stdout",
       "text": [
        "\n",
        "2008"
       ]
      },
      {
       "output_type": "stream",
       "stream": "stdout",
       "text": [
        "\n",
        "2009"
       ]
      },
      {
       "output_type": "stream",
       "stream": "stdout",
       "text": [
        "\n",
        "2010"
       ]
      },
      {
       "output_type": "stream",
       "stream": "stdout",
       "text": [
        "\n",
        "2011"
       ]
      },
      {
       "output_type": "stream",
       "stream": "stdout",
       "text": [
        "\n",
        "2012"
       ]
      },
      {
       "output_type": "stream",
       "stream": "stdout",
       "text": [
        "\n",
        "2013"
       ]
      },
      {
       "output_type": "stream",
       "stream": "stdout",
       "text": [
        "\n"
       ]
      },
      {
       "html": [
        "<div style=\"max-height:1000px;max-width:1500px;overflow:auto;\">\n",
        "<table border=\"1\" class=\"dataframe\">\n",
        "  <thead>\n",
        "    <tr style=\"text-align: right;\">\n",
        "      <th></th>\n",
        "      <th>gender</th>\n",
        "      <th>enrol_level</th>\n",
        "      <th>percent</th>\n",
        "      <th>state</th>\n",
        "      <th>year</th>\n",
        "    </tr>\n",
        "  </thead>\n",
        "  <tbody>\n",
        "    <tr>\n",
        "      <th>0</th>\n",
        "      <td> All</td>\n",
        "      <td> Govt</td>\n",
        "      <td> 60.60</td>\n",
        "      <td>  Jammu &amp; Kashmir</td>\n",
        "      <td> 2006</td>\n",
        "    </tr>\n",
        "    <tr>\n",
        "      <th>1</th>\n",
        "      <td> All</td>\n",
        "      <td> Govt</td>\n",
        "      <td> 79.88</td>\n",
        "      <td> Himachal Pradesh</td>\n",
        "      <td> 2006</td>\n",
        "    </tr>\n",
        "    <tr>\n",
        "      <th>2</th>\n",
        "      <td> All</td>\n",
        "      <td> Govt</td>\n",
        "      <td> 55.04</td>\n",
        "      <td>           Punjab</td>\n",
        "      <td> 2006</td>\n",
        "    </tr>\n",
        "    <tr>\n",
        "      <th>3</th>\n",
        "      <td> All</td>\n",
        "      <td> Govt</td>\n",
        "      <td> 75.13</td>\n",
        "      <td>      Uttaranchal</td>\n",
        "      <td> 2006</td>\n",
        "    </tr>\n",
        "    <tr>\n",
        "      <th>4</th>\n",
        "      <td> All</td>\n",
        "      <td> Govt</td>\n",
        "      <td> 50.60</td>\n",
        "      <td>          Haryana</td>\n",
        "      <td> 2006</td>\n",
        "    </tr>\n",
        "  </tbody>\n",
        "</table>\n",
        "</div>"
       ],
       "metadata": {},
       "output_type": "pyout",
       "prompt_number": 77,
       "text": [
        "  gender enrol_level percent             state  year\n",
        "0    All        Govt   60.60   Jammu & Kashmir  2006\n",
        "1    All        Govt   79.88  Himachal Pradesh  2006\n",
        "2    All        Govt   55.04            Punjab  2006\n",
        "3    All        Govt   75.13       Uttaranchal  2006\n",
        "4    All        Govt   50.60           Haryana  2006"
       ]
      }
     ],
     "prompt_number": 77
    },
    {
     "cell_type": "markdown",
     "metadata": {},
     "source": [
      "Scraping enrolment data by age"
     ]
    },
    {
     "cell_type": "code",
     "collapsed": false,
     "input": [
      "df_age_enrol = pd.DataFrame()\n",
      "for year in xrange(2006, 2014):\n",
      "    a = requests.get('http://www.asercentre.org/education/data/india/statistics/level/p/66.html?ajax=addons_aserdata_ajax_getdata&year=%s&indic=4&viewby=age'%(str(year)))\n",
      "    data = json.loads(a.text)\n",
      "    test = pd.DataFrame.from_dict(data['raw'])\n",
      "    new_columns = test.columns.values\n",
      "    new_columns[0] = 'age'\n",
      "    new_columns[1] = 'enrol_level'\n",
      "    new_columns[4] = 'state'\n",
      "    test.columns = new_columns\n",
      "    test = test.drop('stateId', 1)\n",
      "    test['enrol_level'] = test['enrol_level'].apply(f)\n",
      "    test['state'] = test['state'].apply(get_state)\n",
      "    df_age_enrol = df_age_enrol.append(test)\n",
      "    print year\n",
      "df_age_enrol.head()"
     ],
     "language": "python",
     "metadata": {},
     "outputs": [
      {
       "output_type": "stream",
       "stream": "stdout",
       "text": [
        "2006\n",
        "2007"
       ]
      },
      {
       "output_type": "stream",
       "stream": "stdout",
       "text": [
        "\n",
        "2008"
       ]
      },
      {
       "output_type": "stream",
       "stream": "stdout",
       "text": [
        "\n",
        "2009"
       ]
      },
      {
       "output_type": "stream",
       "stream": "stdout",
       "text": [
        "\n",
        "2010"
       ]
      },
      {
       "output_type": "stream",
       "stream": "stdout",
       "text": [
        "\n",
        "2011"
       ]
      },
      {
       "output_type": "stream",
       "stream": "stdout",
       "text": [
        "\n",
        "2012"
       ]
      },
      {
       "output_type": "stream",
       "stream": "stdout",
       "text": [
        "\n",
        "2013"
       ]
      },
      {
       "output_type": "stream",
       "stream": "stdout",
       "text": [
        "\n"
       ]
      },
      {
       "html": [
        "<div style=\"max-height:1000px;max-width:1500px;overflow:auto;\">\n",
        "<table border=\"1\" class=\"dataframe\">\n",
        "  <thead>\n",
        "    <tr style=\"text-align: right;\">\n",
        "      <th></th>\n",
        "      <th>age</th>\n",
        "      <th>enrol_level</th>\n",
        "      <th>percent</th>\n",
        "      <th>state</th>\n",
        "      <th>year</th>\n",
        "    </tr>\n",
        "  </thead>\n",
        "  <tbody>\n",
        "    <tr>\n",
        "      <th>0</th>\n",
        "      <td> 05 to 07</td>\n",
        "      <td> Govt</td>\n",
        "      <td> 46.70</td>\n",
        "      <td>  Jammu &amp; Kashmir</td>\n",
        "      <td> 2006</td>\n",
        "    </tr>\n",
        "    <tr>\n",
        "      <th>1</th>\n",
        "      <td> 05 to 07</td>\n",
        "      <td> Govt</td>\n",
        "      <td> 67.49</td>\n",
        "      <td> Himachal Pradesh</td>\n",
        "      <td> 2006</td>\n",
        "    </tr>\n",
        "    <tr>\n",
        "      <th>2</th>\n",
        "      <td> 05 to 07</td>\n",
        "      <td> Govt</td>\n",
        "      <td> 40.09</td>\n",
        "      <td>           Punjab</td>\n",
        "      <td> 2006</td>\n",
        "    </tr>\n",
        "    <tr>\n",
        "      <th>3</th>\n",
        "      <td> 05 to 07</td>\n",
        "      <td> Govt</td>\n",
        "      <td> 69.51</td>\n",
        "      <td>      Uttaranchal</td>\n",
        "      <td> 2006</td>\n",
        "    </tr>\n",
        "    <tr>\n",
        "      <th>4</th>\n",
        "      <td> 05 to 07</td>\n",
        "      <td> Govt</td>\n",
        "      <td> 41.53</td>\n",
        "      <td>          Haryana</td>\n",
        "      <td> 2006</td>\n",
        "    </tr>\n",
        "  </tbody>\n",
        "</table>\n",
        "</div>"
       ],
       "metadata": {},
       "output_type": "pyout",
       "prompt_number": 78,
       "text": [
        "        age enrol_level percent             state  year\n",
        "0  05 to 07        Govt   46.70   Jammu & Kashmir  2006\n",
        "1  05 to 07        Govt   67.49  Himachal Pradesh  2006\n",
        "2  05 to 07        Govt   40.09            Punjab  2006\n",
        "3  05 to 07        Govt   69.51       Uttaranchal  2006\n",
        "4  05 to 07        Govt   41.53           Haryana  2006"
       ]
      }
     ],
     "prompt_number": 78
    },
    {
     "cell_type": "markdown",
     "metadata": {},
     "source": [
      "Scraping enrolment data by class"
     ]
    },
    {
     "cell_type": "code",
     "collapsed": false,
     "input": [
      "df_class_enrol = pd.DataFrame()\n",
      "for year in xrange(2006, 2014):\n",
      "    a = requests.get('http://www.asercentre.org/education/data/india/statistics/level/p/66.html?ajax=addons_aserdata_ajax_getdata&year=%s&indic=4&viewby=schoolClass'%(str(year)))\n",
      "    data = json.loads(a.text)\n",
      "    test = pd.DataFrame.from_dict(data['raw'])\n",
      "    new_columns = test.columns.values\n",
      "    new_columns[0] = 'class'\n",
      "    new_columns[1] = 'enrol_level'\n",
      "    new_columns[4] = 'state'\n",
      "    test.columns = new_columns\n",
      "    test = test.drop('stateId', 1)\n",
      "    test['enrol_level'] = test['enrol_level'].apply(f)\n",
      "    test['state'] = test['state'].apply(get_state)\n",
      "    df_class_enrol = df_class_enrol.append(test)\n",
      "    print year\n",
      "df_class_enrol.head()"
     ],
     "language": "python",
     "metadata": {},
     "outputs": [
      {
       "output_type": "stream",
       "stream": "stdout",
       "text": [
        "2006\n",
        "2007"
       ]
      },
      {
       "output_type": "stream",
       "stream": "stdout",
       "text": [
        "\n",
        "2008"
       ]
      },
      {
       "output_type": "stream",
       "stream": "stdout",
       "text": [
        "\n",
        "2009"
       ]
      },
      {
       "output_type": "stream",
       "stream": "stdout",
       "text": [
        "\n",
        "2010"
       ]
      },
      {
       "output_type": "stream",
       "stream": "stdout",
       "text": [
        "\n",
        "2011"
       ]
      },
      {
       "output_type": "stream",
       "stream": "stdout",
       "text": [
        "\n",
        "2012"
       ]
      },
      {
       "output_type": "stream",
       "stream": "stdout",
       "text": [
        "\n",
        "2013"
       ]
      },
      {
       "output_type": "stream",
       "stream": "stdout",
       "text": [
        "\n"
       ]
      },
      {
       "html": [
        "<div style=\"max-height:1000px;max-width:1500px;overflow:auto;\">\n",
        "<table border=\"1\" class=\"dataframe\">\n",
        "  <thead>\n",
        "    <tr style=\"text-align: right;\">\n",
        "      <th></th>\n",
        "      <th>class</th>\n",
        "      <th>enrol_level</th>\n",
        "      <th>percent</th>\n",
        "      <th>state</th>\n",
        "      <th>year</th>\n",
        "    </tr>\n",
        "  </thead>\n",
        "  <tbody>\n",
        "    <tr>\n",
        "      <th>0</th>\n",
        "      <td> 1</td>\n",
        "      <td> Govt</td>\n",
        "      <td> 76.31</td>\n",
        "      <td>       India</td>\n",
        "      <td> 2006</td>\n",
        "    </tr>\n",
        "    <tr>\n",
        "      <th>1</th>\n",
        "      <td> 1</td>\n",
        "      <td> Govt</td>\n",
        "      <td> 52.37</td>\n",
        "      <td> Pondicherry</td>\n",
        "      <td> 2006</td>\n",
        "    </tr>\n",
        "    <tr>\n",
        "      <th>2</th>\n",
        "      <td> 1</td>\n",
        "      <td> Govt</td>\n",
        "      <td> 72.82</td>\n",
        "      <td>  Tamil Nadu</td>\n",
        "      <td> 2006</td>\n",
        "    </tr>\n",
        "    <tr>\n",
        "      <th>3</th>\n",
        "      <td> 1</td>\n",
        "      <td> Govt</td>\n",
        "      <td> 46.37</td>\n",
        "      <td>      Kerela</td>\n",
        "      <td> 2006</td>\n",
        "    </tr>\n",
        "    <tr>\n",
        "      <th>4</th>\n",
        "      <td> 1</td>\n",
        "      <td> Govt</td>\n",
        "      <td> 52.42</td>\n",
        "      <td>         Goa</td>\n",
        "      <td> 2006</td>\n",
        "    </tr>\n",
        "  </tbody>\n",
        "</table>\n",
        "</div>"
       ],
       "metadata": {},
       "output_type": "pyout",
       "prompt_number": 79,
       "text": [
        "  class enrol_level percent        state  year\n",
        "0     1        Govt   76.31        India  2006\n",
        "1     1        Govt   52.37  Pondicherry  2006\n",
        "2     1        Govt   72.82   Tamil Nadu  2006\n",
        "3     1        Govt   46.37       Kerela  2006\n",
        "4     1        Govt   52.42          Goa  2006"
       ]
      }
     ],
     "prompt_number": 79
    },
    {
     "cell_type": "code",
     "collapsed": false,
     "input": [
      "df_gender_read.to_csv('gender_read.csv')\n",
      "df_age_read.to_csv('age_read.csv')\n",
      "df_class_read.to_csv('class_read.csv')\n",
      "df_school_read.to_csv('school_type_read.csv')\n",
      "df_gender_math.to_csv('gender_math.csv')\n",
      "df_age_math.to_csv('age_math.csv')\n",
      "df_class_math.to_csv('class_math.csv')\n",
      "df_school_math.to_csv('school_type_math.csv')\n",
      "df_gender_enrol.to_csv('gender_enrol.csv')\n",
      "df_age_enrol.to_csv('age_enrol.csv')\n",
      "df_class_enrol.to_csv('class_enrol.csv')"
     ],
     "language": "python",
     "metadata": {},
     "outputs": [],
     "prompt_number": 83
    }
   ],
   "metadata": {}
  }
 ]
}